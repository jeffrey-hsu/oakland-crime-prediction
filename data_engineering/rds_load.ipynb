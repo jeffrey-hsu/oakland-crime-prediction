{
 "cells": [
  {
   "cell_type": "markdown",
   "metadata": {},
   "source": [
    "## Load Data\n",
    "\n",
    "\n",
    "#### Basic Setup (access, db connection, meta data)"
   ]
  },
  {
   "cell_type": "code",
   "execution_count": 32,
   "metadata": {},
   "outputs": [],
   "source": [
    "import sys\n",
    "#sys.path.append('../')\n",
    "import psycopg2\n",
    "import pandas.io.sql as psql\n",
    "import csv\n",
    "\n",
    "import numpy as np\n",
    "import pandas as pd\n",
    "from collections import OrderedDict\n",
    "import matplotlib.pyplot as plt\n",
    "import MySQLdb"
   ]
  },
  {
   "cell_type": "code",
   "execution_count": 179,
   "metadata": {},
   "outputs": [],
   "source": [
    "## DB CONNECTION INFO\n",
    "access_file = open('db_access.txt', \"r\")\n",
    "db_access = access_file.read().split(',')\n",
    "hostname = db_access[0] \n",
    "username = db_access[1] \n",
    "password = db_access[2] \n",
    "db_name = db_access[3] "
   ]
  },
  {
   "cell_type": "code",
   "execution_count": 150,
   "metadata": {
    "collapsed": true
   },
   "outputs": [],
   "source": [
    "hostname = 'ctsp-data-good.cofkkcj120x1.us-east-1.rds.amazonaws.com'\n",
    "username = 'ctsp_admin'\n",
    "password = 'Data4G00d!'\n",
    "db_name = 'crimes'"
   ]
  },
  {
   "cell_type": "code",
   "execution_count": 151,
   "metadata": {},
   "outputs": [],
   "source": [
    "def execute_query(sql, hostname, username, password, db_name):\n",
    "    \"\"\"\n",
    "    This function takes in a MySQL query and executes it based on the db connection defined.\n",
    "    If the execution is failed, it will roll back the changes and close the open session.\n",
    "    \"\"\"\n",
    "    conn = MySQLdb.connect(host=hostname, user=username, passwd=password, db=db_name, port=3306)\n",
    "    db = conn.cursor()\n",
    "    try:\n",
    "        db.execute(sql)\n",
    "        conn.commit()\n",
    "    except:\n",
    "        conn.rollback()\n",
    "        print 'ERROR SQL EXECUTION! ROLLEDBACK'\n",
    "    \n",
    "    conn.close()"
   ]
  },
  {
   "cell_type": "markdown",
   "metadata": {},
   "source": [
    "#### Create Tables, Set Schema & Insert Data\n",
    "\n",
    "#### (1) crime_type"
   ]
  },
  {
   "cell_type": "code",
   "execution_count": 155,
   "metadata": {},
   "outputs": [],
   "source": [
    "drop_crime_type_sql = \"DROP TABLE IF EXISTS crime_type;\"\n",
    "execute_query(drop_crime_type_sql, hostname, username, password, db_name)\n",
    "\n",
    "create_crime_type_sql = \"CREATE TABLE IF NOT EXISTS crime_type \"\n",
    "create_crime_type_sql = create_crime_type_sql + \"(id_crime_type INT NOT NULL PRIMARY KEY, \"\n",
    "create_crime_type_sql = create_crime_type_sql + \"name VARCHAR(20) NOT NULL,\"\n",
    "create_crime_type_sql = create_crime_type_sql + \"created_at datetime, updated_at datetime );\"\n",
    "execute_query(create_crime_type_sql, hostname, username, password, db_name)"
   ]
  },
  {
   "cell_type": "code",
   "execution_count": 156,
   "metadata": {},
   "outputs": [
    {
     "data": {
      "text/plain": [
       "{1: 'motor vehicle theft',\n",
       " 2: 'robbery',\n",
       " 3: 'vandalism',\n",
       " 4: 'theft/larceny',\n",
       " 5: 'burglary',\n",
       " 6: 'assault',\n",
       " 7: 'sex crimes',\n",
       " 8: 'dui',\n",
       " 9: 'fraud',\n",
       " 10: 'disturbing the peace',\n",
       " 11: 'drugs/alcohol violations',\n",
       " 12: 'arson',\n",
       " 13: 'weapons',\n",
       " 14: 'homicide'}"
      ]
     },
     "execution_count": 156,
     "metadata": {},
     "output_type": "execute_result"
    }
   ],
   "source": [
    "## SET UP CRIME TYPE\n",
    "crime_type = ['motor vehicle theft', 'robbery', 'vandalism', \n",
    "              'theft/larceny', 'burglary', 'assault', \n",
    "              'sex crimes', 'dui', 'fraud', \n",
    "              'disturbing the peace', 'drugs/alcohol violations', 'arson',\n",
    "              'weapons', 'homicide']\n",
    "crime_type_dict = {i+1: crime for i, crime in enumerate(crime_type)}\n",
    "crime_type_dict"
   ]
  },
  {
   "cell_type": "code",
   "execution_count": 157,
   "metadata": {},
   "outputs": [
    {
     "name": "stderr",
     "output_type": "stream",
     "text": [
      "/Users/jeffreyhsu/anaconda3/envs/py27/lib/python2.7/site-packages/ipykernel_launcher.py:9: Warning: Data truncated for column 'name' at row 11\n",
      "  if __name__ == '__main__':\n"
     ]
    }
   ],
   "source": [
    "## INSERT CRIME TYPE TO DB TABLE\n",
    "insert_crim_type_sql = \"INSERT INTO crime_type (id_crime_type, name, created_at, updated_at) VALUES \"\n",
    "for i, key in enumerate(crime_type_dict.itervalues()):\n",
    "    insert_crim_type_sql = insert_crim_type_sql + \"(\" + str(i+1) + \", '\" + key + \"', NOW(), NOW() ), \"\n",
    "insert_crim_type_sql = insert_crim_type_sql[:-2]    \n",
    "insert_crim_type_sql = insert_crim_type_sql + \";\"\n",
    "\n",
    "execute_query(insert_crim_type_sql, hostname, username, password, db_name)"
   ]
  },
  {
   "cell_type": "markdown",
   "metadata": {},
   "source": [
    "#### (2) city"
   ]
  },
  {
   "cell_type": "code",
   "execution_count": 158,
   "metadata": {},
   "outputs": [],
   "source": [
    "## DROP TABLE IF EXISTS\n",
    "drop_city_sql = \"DROP TABLE IF EXISTS city;\"\n",
    "execute_query(drop_city_sql, hostname, username, password, db_name)\n",
    "## CREATE TABLE SCHEMA IF NOT EXISTS\n",
    "create_city_sql = \"CREATE TABLE IF NOT EXISTS city (id_city INT NOT NULL PRIMARY KEY, \"\n",
    "create_city_sql = create_city_sql + \"name VARCHAR(20) NOT NULL, created_at datetime, updated_at datetime);\"\n",
    "execute_query(create_city_sql, hostname, username, password, db_name)\n",
    "## INSERT INTO CITY DB TABLE\n",
    "insert_city_sql = \"INSERT INTO city (id_city, name, created_at, updated_at) VALUES (1, 'Oakland', NOW(), NOW());\"\n",
    "execute_query(insert_city_sql, hostname, username, password, db_name) "
   ]
  },
  {
   "cell_type": "markdown",
   "metadata": {},
   "source": [
    "#### (3) state"
   ]
  },
  {
   "cell_type": "code",
   "execution_count": 159,
   "metadata": {
    "collapsed": true
   },
   "outputs": [],
   "source": [
    "## DROP TABLE IF EXISTS\n",
    "drop_state_sql = \"DROP TABLE IF EXISTS state;\"\n",
    "execute_query(drop_state_sql, hostname, username, password, db_name)\n",
    "## CREATE TABLE SCHEMA IF NOT EXISTS\n",
    "create_state_sql = \"CREATE TABLE IF NOT EXISTS state (id_state INT NOT NULL PRIMARY KEY, \"\n",
    "create_state_sql = create_state_sql + \"name VARCHAR(20) NOT NULL, shortname VARCHAR(20), \"\n",
    "create_state_sql = create_state_sql + \"created_at datetime, updated_at datetime);\"\n",
    "execute_query(create_state_sql, hostname, username, password, db_name)\n",
    "## INSERT INTO STATE DB TABLE\n",
    "insert_state_sql = \"INSERT INTO state (id_state, name, shortname, created_at, updated_at) \"\n",
    "insert_state_sql = insert_state_sql + \"VALUES (1, 'California', 'CA', NOW(), NOW());\" \n",
    "execute_query(insert_state_sql, hostname, username, password, db_name)    "
   ]
  },
  {
   "cell_type": "markdown",
   "metadata": {},
   "source": [
    "#### (4) crime"
   ]
  },
  {
   "cell_type": "code",
   "execution_count": 174,
   "metadata": {
    "collapsed": true
   },
   "outputs": [],
   "source": [
    "## DateTime not in correct dd.mm.yyyy hh:mm:ss format\n",
    "crime_cols = ['id_crime', 'fk_crime_type', 'case_number', 'description', 'police_beat', 'datetime',\n",
    "              'address', 'fk_city', 'fk_state', 'longtitude', 'latitude']"
   ]
  },
  {
   "cell_type": "code",
   "execution_count": 175,
   "metadata": {},
   "outputs": [],
   "source": [
    "## DROP TABLE IF EXISTS\n",
    "drop_crime_sql = \"DROP TABLE IF EXISTS crime;\"\n",
    "execute_query(drop_crime_sql, hostname, username, password, db_name)\n",
    "## CREATE TABLE SCHEMA IF NOT EXISTS\n",
    "create_state_sql = \"CREATE TABLE IF NOT EXISTS crime (id_crime INT NOT NULL, fk_crime_type INT NOT NULL, \"\n",
    "create_state_sql = create_state_sql + \"case_number VARCHAR(20), description TEXT, police_beat VARCHAR(20), \"\n",
    "create_state_sql = create_state_sql + \"happened_at datetime, address VARCHAR(20), fk_city INT, \"\n",
    "create_state_sql = create_state_sql + \"fk_state INT, longtitude VARCHAR(20), latitude VARCHAR(20), \"\n",
    "create_state_sql = create_state_sql + \"PRIMARY KEY (id_crime), FOREIGN KEY (fk_crime_type) REFERENCES crime_type(id_crime_type), \"\n",
    "create_state_sql = create_state_sql + \"FOREIGN KEY (fk_city) REFERENCES city(id_city),\"\n",
    "create_state_sql = create_state_sql + \"FOREIGN KEY (fk_state) REFERENCES state(id_state) );\"\n",
    "execute_query(create_state_sql, hostname, username, password, db_name)"
   ]
  },
  {
   "cell_type": "code",
   "execution_count": 177,
   "metadata": {},
   "outputs": [],
   "source": [
    "def load_crime_data(filename):\n",
    "    \"\"\"\n",
    "    This function takes in the raw crime csv file, read it line by line, transform the columns\n",
    "    and finally load the data into crime DB table.\n",
    "    \"\"\"\n",
    "    with open(filename, 'r') as f:\n",
    "        reader = csv.reader(f)\n",
    "        for i, line in enumerate(reader):\n",
    "            if i == 0:\n",
    "                pass\n",
    "            else:\n",
    "                dbline = [str(i), str(crime_type_dict.values().index(line[0].lower())+1), \n",
    "                          line[0], line[2], line[3].lower(), line[4], line[1], line[5], '1', '1']\n",
    "                insert_crime_sql = \"INSERT INTO crime \" \n",
    "                insert_crime_sql = insert_crime_sql + \"( id_crime, fk_crime_type, case_number, \" \n",
    "                insert_crime_sql = insert_crime_sql + \"description, police_beat, happened_at, \" \n",
    "                insert_crime_sql = insert_crime_sql + \"address, fk_city, fk_state ) VALUES (\" \n",
    "                insert_crime_sql = insert_crime_sql + dbline[0] + \", \" + dbline[1] + \", '\" \n",
    "                insert_crime_sql = insert_crime_sql + dbline[3] + \"', '\" + dbline[4] \n",
    "                insert_crime_sql = insert_crime_sql + \"', '\" + dbline[5] + \"', DATE('\" + dbline[6]\n",
    "                insert_crime_sql = insert_crime_sql + \"'), '\" + dbline[7] + \"', \" + dbline[8] \n",
    "                insert_crime_sql = insert_crime_sql + \", \" + dbline[9] + \");\"\n",
    "                #print insert_crime_sql\n",
    "                #print \"=============================\"\n",
    "                execute_query(insert_crime_sql, hostname, username, password, db_name) \n",
    "         "
   ]
  },
  {
   "cell_type": "code",
   "execution_count": 178,
   "metadata": {},
   "outputs": [
    {
     "name": "stderr",
     "output_type": "stream",
     "text": [
      "/Users/jeffreyhsu/anaconda3/envs/py27/lib/python2.7/site-packages/ipykernel_launcher.py:9: Warning: Data truncated for column 'address' at row 1\n",
      "  if __name__ == '__main__':\n"
     ]
    },
    {
     "name": "stdout",
     "output_type": "stream",
     "text": [
      "ERROR SQL EXECUTION! ROLLEDBACK\n",
      "ERROR SQL EXECUTION! ROLLEDBACK\n"
     ]
    },
    {
     "ename": "OperationalError",
     "evalue": "(2003, \"Can't connect to MySQL server on 'ctsp-data-good.cofkkcj120x1.us-east-1.rds.amazonaws.com' (60)\")",
     "output_type": "error",
     "traceback": [
      "\u001b[0;31m---------------------------------------------------------------------------\u001b[0m",
      "\u001b[0;31mOperationalError\u001b[0m                          Traceback (most recent call last)",
      "\u001b[0;32m<ipython-input-178-daf588fc8cff>\u001b[0m in \u001b[0;36m<module>\u001b[0;34m()\u001b[0m\n\u001b[1;32m      1\u001b[0m \u001b[0mraw_crime_data\u001b[0m \u001b[0;34m=\u001b[0m \u001b[0;34m'crimePublicData.csv'\u001b[0m\u001b[0;34m\u001b[0m\u001b[0m\n\u001b[0;32m----> 2\u001b[0;31m \u001b[0mload_crime_data\u001b[0m\u001b[0;34m(\u001b[0m\u001b[0mraw_crime_data\u001b[0m\u001b[0;34m)\u001b[0m\u001b[0;34m\u001b[0m\u001b[0m\n\u001b[0m",
      "\u001b[0;32m<ipython-input-177-c46d81c3b23d>\u001b[0m in \u001b[0;36mload_crime_data\u001b[0;34m(filename)\u001b[0m\n\u001b[1;32m     23\u001b[0m                 \u001b[0;31m#print insert_crime_sql\u001b[0m\u001b[0;34m\u001b[0m\u001b[0;34m\u001b[0m\u001b[0m\n\u001b[1;32m     24\u001b[0m                 \u001b[0;31m#print \"=============================\"\u001b[0m\u001b[0;34m\u001b[0m\u001b[0;34m\u001b[0m\u001b[0m\n\u001b[0;32m---> 25\u001b[0;31m                 \u001b[0mexecute_query\u001b[0m\u001b[0;34m(\u001b[0m\u001b[0minsert_crime_sql\u001b[0m\u001b[0;34m,\u001b[0m \u001b[0mhostname\u001b[0m\u001b[0;34m,\u001b[0m \u001b[0musername\u001b[0m\u001b[0;34m,\u001b[0m \u001b[0mpassword\u001b[0m\u001b[0;34m,\u001b[0m \u001b[0mdb_name\u001b[0m\u001b[0;34m)\u001b[0m\u001b[0;34m\u001b[0m\u001b[0m\n\u001b[0m\u001b[1;32m     26\u001b[0m \u001b[0;34m\u001b[0m\u001b[0m\n",
      "\u001b[0;32m<ipython-input-151-b3487424eb6f>\u001b[0m in \u001b[0;36mexecute_query\u001b[0;34m(sql, hostname, username, password, db_name)\u001b[0m\n\u001b[1;32m      4\u001b[0m     \u001b[0mIf\u001b[0m \u001b[0mthe\u001b[0m \u001b[0mexecution\u001b[0m \u001b[0;32mis\u001b[0m \u001b[0mfailed\u001b[0m\u001b[0;34m,\u001b[0m \u001b[0mit\u001b[0m \u001b[0mwill\u001b[0m \u001b[0mroll\u001b[0m \u001b[0mback\u001b[0m \u001b[0mthe\u001b[0m \u001b[0mchanges\u001b[0m \u001b[0;32mand\u001b[0m \u001b[0mclose\u001b[0m \u001b[0mthe\u001b[0m \u001b[0mopen\u001b[0m \u001b[0msession\u001b[0m\u001b[0;34m.\u001b[0m\u001b[0;34m\u001b[0m\u001b[0m\n\u001b[1;32m      5\u001b[0m     \"\"\"\n\u001b[0;32m----> 6\u001b[0;31m     \u001b[0mconn\u001b[0m \u001b[0;34m=\u001b[0m \u001b[0mMySQLdb\u001b[0m\u001b[0;34m.\u001b[0m\u001b[0mconnect\u001b[0m\u001b[0;34m(\u001b[0m\u001b[0mhost\u001b[0m\u001b[0;34m=\u001b[0m\u001b[0mhostname\u001b[0m\u001b[0;34m,\u001b[0m \u001b[0muser\u001b[0m\u001b[0;34m=\u001b[0m\u001b[0musername\u001b[0m\u001b[0;34m,\u001b[0m \u001b[0mpasswd\u001b[0m\u001b[0;34m=\u001b[0m\u001b[0mpassword\u001b[0m\u001b[0;34m,\u001b[0m \u001b[0mdb\u001b[0m\u001b[0;34m=\u001b[0m\u001b[0mdb_name\u001b[0m\u001b[0;34m,\u001b[0m \u001b[0mport\u001b[0m\u001b[0;34m=\u001b[0m\u001b[0;36m3306\u001b[0m\u001b[0;34m)\u001b[0m\u001b[0;34m\u001b[0m\u001b[0m\n\u001b[0m\u001b[1;32m      7\u001b[0m     \u001b[0mdb\u001b[0m \u001b[0;34m=\u001b[0m \u001b[0mconn\u001b[0m\u001b[0;34m.\u001b[0m\u001b[0mcursor\u001b[0m\u001b[0;34m(\u001b[0m\u001b[0;34m)\u001b[0m\u001b[0;34m\u001b[0m\u001b[0m\n\u001b[1;32m      8\u001b[0m     \u001b[0;32mtry\u001b[0m\u001b[0;34m:\u001b[0m\u001b[0;34m\u001b[0m\u001b[0m\n",
      "\u001b[0;32m/Users/jeffreyhsu/anaconda3/envs/py27/lib/python2.7/site-packages/MySQLdb/__init__.pyc\u001b[0m in \u001b[0;36mConnect\u001b[0;34m(*args, **kwargs)\u001b[0m\n\u001b[1;32m     79\u001b[0m     \u001b[0;34m\"\"\"Factory function for connections.Connection.\"\"\"\u001b[0m\u001b[0;34m\u001b[0m\u001b[0m\n\u001b[1;32m     80\u001b[0m     \u001b[0;32mfrom\u001b[0m \u001b[0mMySQLdb\u001b[0m\u001b[0;34m.\u001b[0m\u001b[0mconnections\u001b[0m \u001b[0;32mimport\u001b[0m \u001b[0mConnection\u001b[0m\u001b[0;34m\u001b[0m\u001b[0m\n\u001b[0;32m---> 81\u001b[0;31m     \u001b[0;32mreturn\u001b[0m \u001b[0mConnection\u001b[0m\u001b[0;34m(\u001b[0m\u001b[0;34m*\u001b[0m\u001b[0margs\u001b[0m\u001b[0;34m,\u001b[0m \u001b[0;34m**\u001b[0m\u001b[0mkwargs\u001b[0m\u001b[0;34m)\u001b[0m\u001b[0;34m\u001b[0m\u001b[0m\n\u001b[0m\u001b[1;32m     82\u001b[0m \u001b[0;34m\u001b[0m\u001b[0m\n\u001b[1;32m     83\u001b[0m \u001b[0mconnect\u001b[0m \u001b[0;34m=\u001b[0m \u001b[0mConnection\u001b[0m \u001b[0;34m=\u001b[0m \u001b[0mConnect\u001b[0m\u001b[0;34m\u001b[0m\u001b[0m\n",
      "\u001b[0;32m/Users/jeffreyhsu/anaconda3/envs/py27/lib/python2.7/site-packages/MySQLdb/connections.pyc\u001b[0m in \u001b[0;36m__init__\u001b[0;34m(self, *args, **kwargs)\u001b[0m\n\u001b[1;32m    191\u001b[0m         \u001b[0mautocommit\u001b[0m \u001b[0;34m=\u001b[0m \u001b[0mkwargs2\u001b[0m\u001b[0;34m.\u001b[0m\u001b[0mpop\u001b[0m\u001b[0;34m(\u001b[0m\u001b[0;34m'autocommit'\u001b[0m\u001b[0;34m,\u001b[0m \u001b[0mFalse\u001b[0m\u001b[0;34m)\u001b[0m\u001b[0;34m\u001b[0m\u001b[0m\n\u001b[1;32m    192\u001b[0m \u001b[0;34m\u001b[0m\u001b[0m\n\u001b[0;32m--> 193\u001b[0;31m         \u001b[0msuper\u001b[0m\u001b[0;34m(\u001b[0m\u001b[0mConnection\u001b[0m\u001b[0;34m,\u001b[0m \u001b[0mself\u001b[0m\u001b[0;34m)\u001b[0m\u001b[0;34m.\u001b[0m\u001b[0m__init__\u001b[0m\u001b[0;34m(\u001b[0m\u001b[0;34m*\u001b[0m\u001b[0margs\u001b[0m\u001b[0;34m,\u001b[0m \u001b[0;34m**\u001b[0m\u001b[0mkwargs2\u001b[0m\u001b[0;34m)\u001b[0m\u001b[0;34m\u001b[0m\u001b[0m\n\u001b[0m\u001b[1;32m    194\u001b[0m         \u001b[0mself\u001b[0m\u001b[0;34m.\u001b[0m\u001b[0mcursorclass\u001b[0m \u001b[0;34m=\u001b[0m \u001b[0mcursorclass\u001b[0m\u001b[0;34m\u001b[0m\u001b[0m\n\u001b[1;32m    195\u001b[0m         self.encoders = dict([ (k, v) for k, v in conv.items()\n",
      "\u001b[0;31mOperationalError\u001b[0m: (2003, \"Can't connect to MySQL server on 'ctsp-data-good.cofkkcj120x1.us-east-1.rds.amazonaws.com' (60)\")"
     ]
    }
   ],
   "source": [
    "raw_crime_data = 'crimePublicData.csv'\n",
    "load_crime_data(raw_crime_data)"
   ]
  },
  {
   "cell_type": "code",
   "execution_count": null,
   "metadata": {
    "collapsed": true
   },
   "outputs": [],
   "source": []
  }
 ],
 "metadata": {
  "kernelspec": {
   "display_name": "Python 2",
   "language": "python",
   "name": "python2"
  },
  "language_info": {
   "codemirror_mode": {
    "name": "ipython",
    "version": 2
   },
   "file_extension": ".py",
   "mimetype": "text/x-python",
   "name": "python",
   "nbconvert_exporter": "python",
   "pygments_lexer": "ipython2",
   "version": "2.7.14"
  }
 },
 "nbformat": 4,
 "nbformat_minor": 2
}
