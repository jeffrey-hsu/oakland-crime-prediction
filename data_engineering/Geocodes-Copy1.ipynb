{
 "cells": [
  {
   "cell_type": "code",
   "execution_count": 1,
   "metadata": {
    "collapsed": true
   },
   "outputs": [],
   "source": [
    "import requests\n",
    "import geopy.distance"
   ]
  },
  {
   "cell_type": "code",
   "execution_count": 2,
   "metadata": {
    "collapsed": true
   },
   "outputs": [],
   "source": [
    "street = '600 Guerrero St'\n",
    "city = 'San Francisco'\n",
    "state= 'California'\n",
    "zip_code ='94110'\n",
    "api_key=''\n",
    "location =street+\",\"+city+\",\"+state+\",\"+zip_code"
   ]
  },
  {
   "cell_type": "code",
   "execution_count": 5,
   "metadata": {
    "collapsed": true
   },
   "outputs": [],
   "source": [
    "def geo_code(api_key,street,city,state,zip_code):\n",
    "    location = street+\",\"+city+\",\"+state+\",\"+zip_code\n",
    "    api_key = api_key\n",
    "    response = requests.get('https://maps.googleapis.com/maps/api/geocode/json?address='+location+'&key='+api_key)\n",
    "    return response\n",
    "\n",
    "response_geocode = geo_code(api_key,street,city,state,zip_code)\n",
    "\n",
    "resp_json_payload = response_geocode.json()"
   ]
  },
  {
   "cell_type": "code",
   "execution_count": 6,
   "metadata": {
    "collapsed": true
   },
   "outputs": [],
   "source": [
    "\n",
    "format_address= resp_json_payload['results'][0]['formatted_address']\n",
    "address_cat = resp_json_payload['results']\n",
    "lat_long = resp_json_payload['results'][0]['geometry']['location']"
   ]
  },
  {
   "cell_type": "code",
   "execution_count": 91,
   "metadata": {},
   "outputs": [
    {
     "data": {
      "text/plain": [
       "663.7982695813184"
      ]
     },
     "execution_count": 91,
     "metadata": {},
     "output_type": "execute_result"
    }
   ],
   "source": [
    "coords_1 = (40.780422, -111.877274)\n",
    "coords_2 = (31.3372728, -109.5609559)\n",
    "\n",
    "geopy.distance.vincenty(coords_1, coords_2).miles"
   ]
  },
  {
   "cell_type": "code",
   "execution_count": 95,
   "metadata": {},
   "outputs": [
    {
     "data": {
      "text/plain": [
       "-111.877274"
      ]
     },
     "execution_count": 95,
     "metadata": {},
     "output_type": "execute_result"
    }
   ],
   "source": [
    "lat_long['lng']"
   ]
  },
  {
   "cell_type": "code",
   "execution_count": 96,
   "metadata": {},
   "outputs": [
    {
     "data": {
      "text/plain": [
       "'410 10th Ave, Salt Lake City, UT 84103, USA'"
      ]
     },
     "execution_count": 96,
     "metadata": {},
     "output_type": "execute_result"
    }
   ],
   "source": [
    "format_address"
   ]
  },
  {
   "cell_type": "code",
   "execution_count": 109,
   "metadata": {
    "scrolled": true
   },
   "outputs": [
    {
     "name": "stdout",
     "output_type": "stream",
     "text": [
      "[{'address_components': [{'long_name': '410', 'short_name': '410', 'types': ['street_number']}, {'long_name': '10th Avenue', 'short_name': '10th Ave', 'types': ['route']}, {'long_name': 'Greater Avenues', 'short_name': 'Greater Avenues', 'types': ['neighborhood', 'political']}, {'long_name': 'Salt Lake City', 'short_name': 'Salt Lake City', 'types': ['locality', 'political']}, {'long_name': 'Salt Lake County', 'short_name': 'Salt Lake County', 'types': ['administrative_area_level_2', 'political']}, {'long_name': 'Utah', 'short_name': 'UT', 'types': ['administrative_area_level_1', 'political']}, {'long_name': 'United States', 'short_name': 'US', 'types': ['country', 'political']}, {'long_name': '84103', 'short_name': '84103', 'types': ['postal_code']}], 'formatted_address': '410 10th Ave, Salt Lake City, UT 84103, USA', 'geometry': {'location': {'lat': 40.780422, 'lng': -111.877274}, 'location_type': 'ROOFTOP', 'viewport': {'northeast': {'lat': 40.7817709802915, 'lng': -111.8759250197085}, 'southwest': {'lat': 40.77907301970851, 'lng': -111.8786229802915}}}, 'partial_match': True, 'place_id': 'ChIJnc8jL5n1UocRHHktk-Pa2pQ', 'types': ['street_address']}]\n"
     ]
    }
   ],
   "source": [
    "print(address_cat)"
   ]
  },
  {
   "cell_type": "code",
   "execution_count": null,
   "metadata": {
    "collapsed": true
   },
   "outputs": [],
   "source": []
  }
 ],
 "metadata": {
  "kernelspec": {
   "display_name": "Python 3",
   "language": "python",
   "name": "python3"
  },
  "language_info": {
   "codemirror_mode": {
    "name": "ipython",
    "version": 3
   },
   "file_extension": ".py",
   "mimetype": "text/x-python",
   "name": "python",
   "nbconvert_exporter": "python",
   "pygments_lexer": "ipython3",
   "version": "3.6.3"
  }
 },
 "nbformat": 4,
 "nbformat_minor": 2
}
